{
 "cells": [
  {
   "cell_type": "code",
   "execution_count": 1,
   "metadata": {
    "ExecuteTime": {
     "end_time": "2017-11-27T05:31:24.892673Z",
     "start_time": "2017-11-27T05:30:56.932Z"
    }
   },
   "outputs": [
    {
     "name": "stderr",
     "output_type": "stream",
     "text": [
      "also installing the dependencies ‘e1071’, ‘lmom’, ‘gld’, ‘mvtnorm’\n",
      "\n"
     ]
    },
    {
     "name": "stdout",
     "output_type": "stream",
     "text": [
      "\n",
      "The downloaded binary packages are in\n",
      "\t/var/folders/_7/7x63npc511xflq8_n8vmqn080000gq/T//RtmpFkwnRe/downloaded_packages\n"
     ]
    }
   ],
   "source": [
    "install.packages('PairedData')"
   ]
  },
  {
   "cell_type": "code",
   "execution_count": 4,
   "metadata": {
    "ExecuteTime": {
     "end_time": "2017-11-27T05:36:42.457450Z",
     "start_time": "2017-11-27T05:36:41.913Z"
    }
   },
   "outputs": [
    {
     "name": "stderr",
     "output_type": "stream",
     "text": [
      "Loading required package: MASS\n",
      "Loading required package: gld\n",
      "Loading required package: mvtnorm\n",
      "Loading required package: lattice\n",
      "Loading required package: ggplot2\n",
      "\n",
      "Attaching package: ‘PairedData’\n",
      "\n",
      "The following object is masked from ‘package:base’:\n",
      "\n",
      "    summary\n",
      "\n"
     ]
    }
   ],
   "source": [
    "library('PairedData')"
   ]
  },
  {
   "cell_type": "code",
   "execution_count": 8,
   "metadata": {
    "ExecuteTime": {
     "end_time": "2017-11-27T05:37:00.259964Z",
     "start_time": "2017-11-27T05:37:00.241Z"
    }
   },
   "outputs": [],
   "source": [
    "data(anscombe2)"
   ]
  },
  {
   "cell_type": "code",
   "execution_count": 12,
   "metadata": {
    "ExecuteTime": {
     "end_time": "2017-11-27T05:41:15.616357Z",
     "start_time": "2017-11-27T05:41:15.601Z"
    }
   },
   "outputs": [
    {
     "ename": "ERROR",
     "evalue": "Error in parse(text = x, srcfile = src): <text>:2:0: unexpected end of input\n1: write.csv(anscombe2, file='/Users/josesho/bin/git-repos/find-datasets/anscombe2.csv'\n   ^\n",
     "output_type": "error",
     "traceback": [
      "Error in parse(text = x, srcfile = src): <text>:2:0: unexpected end of input\n1: write.csv(anscombe2, file='/Users/josesho/bin/git-repos/find-datasets/anscombe2.csv'\n   ^\nTraceback:\n"
     ]
    }
   ],
   "source": [
    "write.csv(anscombe2, file='/Users/josesho/bin/git-repos/find-datasets/anscombe2.csv'"
   ]
  },
  {
   "cell_type": "code",
   "execution_count": 11,
   "metadata": {
    "ExecuteTime": {
     "end_time": "2017-11-27T05:39:21.259961Z",
     "start_time": "2017-11-27T05:39:21.222Z"
    }
   },
   "outputs": [
    {
     "data": {
      "text/html": [
       "<table>\n",
       "<thead><tr><th scope=col>X1</th><th scope=col>Y1</th><th scope=col>X2</th><th scope=col>Y2</th><th scope=col>X3</th><th scope=col>Y3</th><th scope=col>X4</th><th scope=col>Y4</th><th scope=col>Subject</th></tr></thead>\n",
       "<tbody>\n",
       "\t<tr><td> 8.885</td><td>10.135</td><td> 8    </td><td>-35   </td><td> 3.375</td><td> 6.625</td><td>0.540 </td><td>-0.540</td><td>S01   </td></tr>\n",
       "\t<tr><td>14.380</td><td>11.940</td><td> 7    </td><td>-30   </td><td>-0.300</td><td> 2.300</td><td>1.980 </td><td> 0.020</td><td>S02   </td></tr>\n",
       "\t<tr><td> 8.015</td><td> 6.025</td><td>17    </td><td>-25   </td><td>10.025</td><td>11.975</td><td>1.100 </td><td> 0.900</td><td>S03   </td></tr>\n",
       "\t<tr><td> 5.835</td><td> 3.045</td><td>15    </td><td>-20   </td><td> 2.350</td><td> 3.650</td><td>3.420 </td><td> 0.580</td><td>S04   </td></tr>\n",
       "\t<tr><td> 5.470</td><td> 1.870</td><td>12    </td><td>-15   </td><td> 7.675</td><td> 8.325</td><td>2.540 </td><td> 1.460</td><td>S05   </td></tr>\n",
       "\t<tr><td>12.060</td><td>12.640</td><td> 5    </td><td>-10   </td><td> 9.000</td><td> 9.000</td><td>1.655 </td><td> 2.345</td><td>S06   </td></tr>\n",
       "\t<tr><td>11.720</td><td> 9.660</td><td> 6    </td><td> -5   </td><td> 7.325</td><td> 6.675</td><td>4.865 </td><td> 1.135</td><td>S07   </td></tr>\n",
       "\t<tr><td>10.315</td><td> 9.265</td><td>19    </td><td>  0   </td><td> 6.650</td><td> 5.350</td><td>3.980 </td><td> 2.020</td><td>S08   </td></tr>\n",
       "\t<tr><td> 5.065</td><td> 6.155</td><td>16    </td><td>  5   </td><td> 4.975</td><td> 3.025</td><td>3.100 </td><td> 2.900</td><td>S09   </td></tr>\n",
       "\t<tr><td> 8.235</td><td>10.785</td><td>11    </td><td> 10   </td><td> 3.300</td><td> 0.700</td><td>2.215 </td><td> 3.785</td><td>S10   </td></tr>\n",
       "\t<tr><td>15.080</td><td>12.360</td><td>18    </td><td> 15   </td><td>11.625</td><td> 8.375</td><td>6.305 </td><td> 1.695</td><td>S11   </td></tr>\n",
       "\t<tr><td>13.485</td><td>10.175</td><td> 9    </td><td> 20   </td><td>17.765</td><td> 8.235</td><td>5.420 </td><td> 2.580</td><td>S12   </td></tr>\n",
       "\t<tr><td>11.300</td><td>12.380</td><td>14    </td><td> 25   </td><td>17.090</td><td> 6.910</td><td>4.540 </td><td> 3.460</td><td>S13   </td></tr>\n",
       "\t<tr><td> 9.820</td><td> 9.660</td><td>13    </td><td> 30   </td><td>19.410</td><td> 8.590</td><td>3.655 </td><td> 4.345</td><td>S14   </td></tr>\n",
       "\t<tr><td> 9.565</td><td> 6.955</td><td>10    </td><td> 35   </td><td>20.735</td><td> 9.265</td><td>2.775 </td><td> 5.225</td><td>S15   </td></tr>\n",
       "</tbody>\n",
       "</table>\n"
      ],
      "text/latex": [
       "\\begin{tabular}{r|lllllllll}\n",
       " X1 & Y1 & X2 & Y2 & X3 & Y3 & X4 & Y4 & Subject\\\\\n",
       "\\hline\n",
       "\t  8.885 & 10.135 &  8     & -35    &  3.375 &  6.625 & 0.540  & -0.540 & S01   \\\\\n",
       "\t 14.380 & 11.940 &  7     & -30    & -0.300 &  2.300 & 1.980  &  0.020 & S02   \\\\\n",
       "\t  8.015 &  6.025 & 17     & -25    & 10.025 & 11.975 & 1.100  &  0.900 & S03   \\\\\n",
       "\t  5.835 &  3.045 & 15     & -20    &  2.350 &  3.650 & 3.420  &  0.580 & S04   \\\\\n",
       "\t  5.470 &  1.870 & 12     & -15    &  7.675 &  8.325 & 2.540  &  1.460 & S05   \\\\\n",
       "\t 12.060 & 12.640 &  5     & -10    &  9.000 &  9.000 & 1.655  &  2.345 & S06   \\\\\n",
       "\t 11.720 &  9.660 &  6     &  -5    &  7.325 &  6.675 & 4.865  &  1.135 & S07   \\\\\n",
       "\t 10.315 &  9.265 & 19     &   0    &  6.650 &  5.350 & 3.980  &  2.020 & S08   \\\\\n",
       "\t  5.065 &  6.155 & 16     &   5    &  4.975 &  3.025 & 3.100  &  2.900 & S09   \\\\\n",
       "\t  8.235 & 10.785 & 11     &  10    &  3.300 &  0.700 & 2.215  &  3.785 & S10   \\\\\n",
       "\t 15.080 & 12.360 & 18     &  15    & 11.625 &  8.375 & 6.305  &  1.695 & S11   \\\\\n",
       "\t 13.485 & 10.175 &  9     &  20    & 17.765 &  8.235 & 5.420  &  2.580 & S12   \\\\\n",
       "\t 11.300 & 12.380 & 14     &  25    & 17.090 &  6.910 & 4.540  &  3.460 & S13   \\\\\n",
       "\t  9.820 &  9.660 & 13     &  30    & 19.410 &  8.590 & 3.655  &  4.345 & S14   \\\\\n",
       "\t  9.565 &  6.955 & 10     &  35    & 20.735 &  9.265 & 2.775  &  5.225 & S15   \\\\\n",
       "\\end{tabular}\n"
      ],
      "text/markdown": [
       "\n",
       "X1 | Y1 | X2 | Y2 | X3 | Y3 | X4 | Y4 | Subject | \n",
       "|---|---|---|---|---|---|---|---|---|---|---|---|---|---|---|\n",
       "|  8.885 | 10.135 |  8     | -35    |  3.375 |  6.625 | 0.540  | -0.540 | S01    | \n",
       "| 14.380 | 11.940 |  7     | -30    | -0.300 |  2.300 | 1.980  |  0.020 | S02    | \n",
       "|  8.015 |  6.025 | 17     | -25    | 10.025 | 11.975 | 1.100  |  0.900 | S03    | \n",
       "|  5.835 |  3.045 | 15     | -20    |  2.350 |  3.650 | 3.420  |  0.580 | S04    | \n",
       "|  5.470 |  1.870 | 12     | -15    |  7.675 |  8.325 | 2.540  |  1.460 | S05    | \n",
       "| 12.060 | 12.640 |  5     | -10    |  9.000 |  9.000 | 1.655  |  2.345 | S06    | \n",
       "| 11.720 |  9.660 |  6     |  -5    |  7.325 |  6.675 | 4.865  |  1.135 | S07    | \n",
       "| 10.315 |  9.265 | 19     |   0    |  6.650 |  5.350 | 3.980  |  2.020 | S08    | \n",
       "|  5.065 |  6.155 | 16     |   5    |  4.975 |  3.025 | 3.100  |  2.900 | S09    | \n",
       "|  8.235 | 10.785 | 11     |  10    |  3.300 |  0.700 | 2.215  |  3.785 | S10    | \n",
       "| 15.080 | 12.360 | 18     |  15    | 11.625 |  8.375 | 6.305  |  1.695 | S11    | \n",
       "| 13.485 | 10.175 |  9     |  20    | 17.765 |  8.235 | 5.420  |  2.580 | S12    | \n",
       "| 11.300 | 12.380 | 14     |  25    | 17.090 |  6.910 | 4.540  |  3.460 | S13    | \n",
       "|  9.820 |  9.660 | 13     |  30    | 19.410 |  8.590 | 3.655  |  4.345 | S14    | \n",
       "|  9.565 |  6.955 | 10     |  35    | 20.735 |  9.265 | 2.775  |  5.225 | S15    | \n",
       "\n",
       "\n"
      ],
      "text/plain": [
       "   X1     Y1     X2 Y2  X3     Y3     X4    Y4     Subject\n",
       "1   8.885 10.135  8 -35  3.375  6.625 0.540 -0.540 S01    \n",
       "2  14.380 11.940  7 -30 -0.300  2.300 1.980  0.020 S02    \n",
       "3   8.015  6.025 17 -25 10.025 11.975 1.100  0.900 S03    \n",
       "4   5.835  3.045 15 -20  2.350  3.650 3.420  0.580 S04    \n",
       "5   5.470  1.870 12 -15  7.675  8.325 2.540  1.460 S05    \n",
       "6  12.060 12.640  5 -10  9.000  9.000 1.655  2.345 S06    \n",
       "7  11.720  9.660  6  -5  7.325  6.675 4.865  1.135 S07    \n",
       "8  10.315  9.265 19   0  6.650  5.350 3.980  2.020 S08    \n",
       "9   5.065  6.155 16   5  4.975  3.025 3.100  2.900 S09    \n",
       "10  8.235 10.785 11  10  3.300  0.700 2.215  3.785 S10    \n",
       "11 15.080 12.360 18  15 11.625  8.375 6.305  1.695 S11    \n",
       "12 13.485 10.175  9  20 17.765  8.235 5.420  2.580 S12    \n",
       "13 11.300 12.380 14  25 17.090  6.910 4.540  3.460 S13    \n",
       "14  9.820  9.660 13  30 19.410  8.590 3.655  4.345 S14    \n",
       "15  9.565  6.955 10  35 20.735  9.265 2.775  5.225 S15    "
      ]
     },
     "metadata": {},
     "output_type": "display_data"
    }
   ],
   "source": [
    "anscombe2"
   ]
  },
  {
   "cell_type": "code",
   "execution_count": null,
   "metadata": {},
   "outputs": [],
   "source": []
  }
 ],
 "metadata": {
  "kernelspec": {
   "display_name": "R 3.3",
   "language": "R",
   "name": "ir33"
  },
  "language_info": {
   "codemirror_mode": "r",
   "file_extension": ".r",
   "mimetype": "text/x-r-source",
   "name": "R",
   "pygments_lexer": "r",
   "version": "3.3.2"
  }
 },
 "nbformat": 4,
 "nbformat_minor": 2
}
