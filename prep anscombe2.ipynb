{
 "cells": [
  {
   "cell_type": "code",
   "execution_count": 1,
   "metadata": {
    "ExecuteTime": {
     "end_time": "2017-11-27T10:36:20.064770Z",
     "start_time": "2017-11-27T10:36:19.479962Z"
    }
   },
   "outputs": [],
   "source": [
    "import pandas as pd"
   ]
  },
  {
   "cell_type": "code",
   "execution_count": 2,
   "metadata": {
    "ExecuteTime": {
     "end_time": "2017-11-27T10:36:37.421975Z",
     "start_time": "2017-11-27T10:36:37.407060Z"
    }
   },
   "outputs": [],
   "source": [
    "anscombe2 = pd.read_csv('anscombe-paired.csv')"
   ]
  },
  {
   "cell_type": "code",
   "execution_count": 5,
   "metadata": {
    "ExecuteTime": {
     "end_time": "2017-11-27T10:37:04.072033Z",
     "start_time": "2017-11-27T10:37:04.062006Z"
    }
   },
   "outputs": [
    {
     "data": {
      "text/plain": [
       "rec.array([(  8.885,  10.135,  8, -35,   3.375,   6.625,  0.54 , -0.54 ),\n",
       "           ( 14.38 ,  11.94 ,  7, -30,  -0.3  ,   2.3  ,  1.98 ,  0.02 ),\n",
       "           (  8.015,   6.025, 17, -25,  10.025,  11.975,  1.1  ,  0.9  ),\n",
       "           (  5.835,   3.045, 15, -20,   2.35 ,   3.65 ,  3.42 ,  0.58 ),\n",
       "           (  5.47 ,   1.87 , 12, -15,   7.675,   8.325,  2.54 ,  1.46 ),\n",
       "           ( 12.06 ,  12.64 ,  5, -10,   9.   ,   9.   ,  1.655,  2.345),\n",
       "           ( 11.72 ,   9.66 ,  6,  -5,   7.325,   6.675,  4.865,  1.135),\n",
       "           ( 10.315,   9.265, 19,   0,   6.65 ,   5.35 ,  3.98 ,  2.02 ),\n",
       "           (  5.065,   6.155, 16,   5,   4.975,   3.025,  3.1  ,  2.9  ),\n",
       "           (  8.235,  10.785, 11,  10,   3.3  ,   0.7  ,  2.215,  3.785),\n",
       "           ( 15.08 ,  12.36 , 18,  15,  11.625,   8.375,  6.305,  1.695),\n",
       "           ( 13.485,  10.175,  9,  20,  17.765,   8.235,  5.42 ,  2.58 ),\n",
       "           ( 11.3  ,  12.38 , 14,  25,  17.09 ,   6.91 ,  4.54 ,  3.46 ),\n",
       "           (  9.82 ,   9.66 , 13,  30,  19.41 ,   8.59 ,  3.655,  4.345),\n",
       "           (  9.565,   6.955, 10,  35,  20.735,   9.265,  2.775,  5.225)], \n",
       "          dtype=[('X1', '<f8'), ('Y1', '<f8'), ('X2', '<i8'), ('Y2', '<i8'), ('X3', '<f8'), ('Y3', '<f8'), ('X4', '<f8'), ('Y4', '<f8')])"
      ]
     },
     "execution_count": 5,
     "metadata": {},
     "output_type": "execute_result"
    }
   ],
   "source": [
    "anscombe2.to_records(index=False)"
   ]
  },
  {
   "cell_type": "code",
   "execution_count": null,
   "metadata": {},
   "outputs": [],
   "source": []
  }
 ],
 "metadata": {
  "kernelspec": {
   "display_name": "Python 3.6",
   "language": "python",
   "name": "python3"
  },
  "language_info": {
   "codemirror_mode": {
    "name": "ipython",
    "version": 3
   },
   "file_extension": ".py",
   "mimetype": "text/x-python",
   "name": "python",
   "nbconvert_exporter": "python",
   "pygments_lexer": "ipython3",
   "version": "3.6.1"
  }
 },
 "nbformat": 4,
 "nbformat_minor": 2
}
